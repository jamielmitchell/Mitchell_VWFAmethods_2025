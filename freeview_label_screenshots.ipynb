{
 "cells": [
  {
   "cell_type": "markdown",
   "id": "ae81fafb-f058-47fa-8f3e-c427f2d3b28e",
   "metadata": {},
   "source": [
    "# Set Up"
   ]
  },
  {
   "cell_type": "code",
   "execution_count": 1,
   "id": "b851584e-25ef-4bc4-9e14-45c8a46a6878",
   "metadata": {},
   "outputs": [],
   "source": [
    "# import necessary packages\n",
    "import glob\n",
    "import os\n",
    "import usefulFunctions as uf\n",
    "import matplotlib.pyplot as plt\n",
    "import numpy as np"
   ]
  },
  {
   "cell_type": "markdown",
   "id": "6650bfd5-99ce-436d-8bf3-2b71d8271191",
   "metadata": {},
   "source": [
    "# Plot overlap of ALL labels"
   ]
  },
  {
   "cell_type": "code",
   "execution_count": 2,
   "id": "8b87d8a8-8acf-4bab-a8c3-ec6a07216401",
   "metadata": {},
   "outputs": [],
   "source": [
    "#set paths\n",
    "base_dir = f'{os.path.dirname(os.getcwd())}/'\n",
    "roi_dir = f'{base_dir}data/labels/average/allData/'\n",
    "fs_mesh = f'{base_dir}data/surface_meshes/fsaverage/lh.inflated'\n",
    "fig_dir = f'{base_dir}figures/overlap_ss/'\n",
    "\n",
    "# define variables\n",
    "subs = uf.subject_list(roi_dir)\n",
    "id_cutoff = 1000 # split between child and adult ID #s\n",
    "child_subs = [sub for sub in subs if int(sub.split('-')[1]) < id_cutoff]\n",
    "adult_subs = [sub for sub in subs if int(sub.split('-')[1]) >= id_cutoff]\n",
    "sub_groups = [child_subs,adult_subs]\n",
    "\n",
    "# Define the number of participants \n",
    "n_subs = len(subs)\n",
    "# Generate a color map with distinct colors\n",
    "colors = plt.cm.prism(np.linspace(0, 1, n_subs))\n",
    "# Convert the RGBA colors to hex format\n",
    "hex_colors = ['#{:02x}{:02x}{:02x}'.format(int(r * 255), int(g * 255), int(b * 255)) for r, g, b, _ in colors]\n",
    "# Create a dictionary to associate subject ID with colors\n",
    "subject_color_mapping = {sub: hex_color for sub, hex_color in zip(subs, hex_colors)}\n",
    "\n",
    "# define various variables\n",
    "contrasts = ['T-v-ALL','F-v-ALL']\n",
    "ROIs = [['VWFA1','VWFA2'],['FFA1','FFA2']]\n",
    "group_names = ['children','adults']\n",
    "\n",
    "# specify camera aesthetics\n",
    "viewsize = ' -viewsize 600 665'\n",
    "camera = '--camera Azimuth 0 Elevation -70 Roll 270'"
   ]
  },
  {
   "cell_type": "code",
   "execution_count": 3,
   "id": "2222be19-87f8-4969-8621-7c69e36d338b",
   "metadata": {},
   "outputs": [],
   "source": [
    "#build the freeview command\n",
    "\n",
    "#loop through group and contrast to plot all ROIs\n",
    "for group_indx, group in enumerate(sub_groups):\n",
    "    for contrast_indx, contrast in enumerate(contrasts):\n",
    "\n",
    "        # start the command\n",
    "        cmd = f'freeview -f {fs_mesh}:curvature_method=binary'\n",
    "\n",
    "        # loop through ROIs\n",
    "        for roi in ROIs[contrast_indx]:\n",
    "            for sub_indx, sub in enumerate(group):\n",
    "                \n",
    "                #grab label path if it exists\n",
    "                lable_path = f'{roi_dir}{sub}/{sub}_{contrast}_{roi}_LH.label'\n",
    "                if os.path.exists(lable_path):\n",
    "                    cmd_pt = f':label={lable_path}:label_color={subject_color_mapping[sub]}:label_outline=true'\n",
    "\n",
    "                    # add label to freeview command\n",
    "                    cmd+=cmd_pt \n",
    "        \n",
    "        # add finishing information to the command\n",
    "        cmd+=f' {camera} -ss {fig_dir}{group_names[group_indx]}_{contrast}_rois.png {viewsize}'\n",
    "        \n",
    "        # run freeview command\n",
    "        os.system(cmd)\n",
    "        # print(cmd)"
   ]
  },
  {
   "cell_type": "markdown",
   "id": "a586b910-1ddf-490a-ac7e-d5d032f73908",
   "metadata": {},
   "source": [
    "# Plot split task VWFAs"
   ]
  },
  {
   "cell_type": "code",
   "execution_count": 9,
   "id": "c3fc73ba-87f1-48bf-bcd5-bae907224164",
   "metadata": {},
   "outputs": [],
   "source": [
    "#set paths\n",
    "base_dir = f'{os.path.dirname(os.getcwd())}/'\n",
    "roi_dir = f'{base_dir}data/labels/native/sepTask/'\n",
    "fig_dir = f'{base_dir}figures/sample_ROIs/sepTask/'\n",
    "fs_mesh = f'{base_dir}data/surface_meshes/fsaverage/lh.inflated'\n",
    "\n",
    "# define variables\n",
    "subs = uf.subject_list(roi_dir)\n",
    "id_cutoff = 1000 # split between child and adult ID #s\n",
    "child_subs = [sub for sub in subs if int(sub.split('-')[1]) < id_cutoff]\n",
    "adult_subs = [sub for sub in subs if int(sub.split('-')[1]) >= id_cutoff]\n",
    "sub_groups = [child_subs, adult_subs]\n",
    "ROIs = ['VWFA1','VWFA2']\n",
    "tasks = ['oneback','fixation']\n",
    "group_names = ['children','adults']\n",
    "\n",
    "# define color pallette\n",
    "task_colors = {'oneback': 'blue','fixation': 'cyan'}\n",
    "\n",
    "# specify camera aesthetics\n",
    "viewsize = ' -viewsize 1091 665'\n",
    "camera = '--camera Azimuth 0 Elevation -77 Roll 270'"
   ]
  },
  {
   "cell_type": "code",
   "execution_count": 26,
   "id": "67b24f8a-8f72-4cf0-add8-380c7114b13d",
   "metadata": {},
   "outputs": [],
   "source": [
    "#build the freeview command\n",
    "\n",
    "#loop through group and sub to plot all ROIs\n",
    "for group_indx, group in enumerate(sub_groups):\n",
    "    for sub_indx, sub in enumerate(group):\n",
    "        fs_mesh = f'{base_dir}data/surface_meshes/{sub}/lh.inflated'\n",
    "        \n",
    "        # start the command\n",
    "        cmd = f'freeview -f {fs_mesh}:curvature_method=binary'\n",
    "\n",
    "        # loop through ROIs for each task\n",
    "        for roi in ROIs:\n",
    "            for task in tasks:\n",
    "\n",
    "                # grab label path if it exists\n",
    "                if group_indx == 0:\n",
    "                    lable_path = f'{roi_dir}{sub}/{sub}_task-oneback_T-v-ALL_{task}_{roi}_LH.label'\n",
    "                elif group_indx == 1:\n",
    "                    lable_path = f'{roi_dir}{sub}/{sub}_task-{task}_T-v-ALL_{roi}_LH.label'\n",
    "                \n",
    "                # add label to freeview command\n",
    "                if os.path.exists(lable_path):\n",
    "                    cmd_pt = f':label={lable_path}:label_color={task_colors[task]}:label_outline=true'\n",
    "                    cmd+=cmd_pt\n",
    "        \n",
    "        # add finishing information to the command            \n",
    "        cmd+=f' {camera} -ss {fig_dir}{sub}_{task}_rois.png {viewsize}'\n",
    "        \n",
    "        # run freeview command\n",
    "        os.system(cmd)"
   ]
  },
  {
   "cell_type": "markdown",
   "id": "d4ce16b7-7c42-46fd-ac6a-16892ac78c0a",
   "metadata": {},
   "source": [
    "# Plot sample VWFAs & FFAs on T-v-ALL t map"
   ]
  },
  {
   "cell_type": "code",
   "execution_count": 7,
   "id": "7417a409-1f3b-4481-9891-cf126f818cf6",
   "metadata": {},
   "outputs": [],
   "source": [
    "#set paths\n",
    "base_dir = f'{os.path.dirname(os.getcwd())}/'\n",
    "roi_dir = f'{base_dir}data/labels/native/allData/'\n",
    "tmap_dir = f'{base_dir}data/t_maps/native/allData/'\n",
    "fig_dir = f'{base_dir}figures/sample_ROIs/allData/'\n",
    "\n",
    "# define variables\n",
    "subs = uf.subject_list(roi_dir)\n",
    "id_cutoff = 1000 # split between child and adult ID #s\n",
    "child_subs = [sub for sub in subs if int(sub.split('-')[1]) < id_cutoff]\n",
    "adult_subs = [sub for sub in subs if int(sub.split('-')[1]) >= id_cutoff]\n",
    "sub_groups = [child_subs, adult_subs] \n",
    "ROIs = ['T-v-ALL_VWFA1','T-v-ALL_VWFA2','F-v-ALL_FFA1','F-v-ALL_FFA2']\n",
    "group_names = ['children','adults']\n",
    "\n",
    "# set color pallette\n",
    "roi_colors = {'T-v-ALL_VWFA1': '#00f48e','F-v-ALL_FFA1': '#ff26b9',\n",
    "               'T-v-ALL_VWFA2': '#00f48e','F-v-ALL_FFA2': '#ff26b9'}\n",
    "\n",
    "# specify camera aesthetics\n",
    "viewsize = ' -viewsize 600 665'\n",
    "camera = '--camera Azimuth 0 Elevation -77 Roll 270'"
   ]
  },
  {
   "cell_type": "code",
   "execution_count": 8,
   "id": "c80985ab-b634-428d-9e08-d383850be861",
   "metadata": {},
   "outputs": [],
   "source": [
    "sub_groups = [['sub-20','sub-52','sub-60'],['sub-1009','sub-1012','sub-1013']]"
   ]
  },
  {
   "cell_type": "code",
   "execution_count": 9,
   "id": "5965d00e-faca-46e6-86b8-df57a1ff93db",
   "metadata": {},
   "outputs": [],
   "source": [
    "#build the freeview command\n",
    "\n",
    "#loop through group and sub to plot all ROIs\n",
    "for group_indx, group in enumerate(sub_groups):\n",
    "    for sub_indx, sub in enumerate(group):\n",
    "\n",
    "        # grab surface mesh and t map for each sub\n",
    "        fs_mesh = f'{base_dir}data/surface_meshes/{sub}/lh.inflated'\n",
    "        t_map = f'{tmap_dir}{sub}/{sub}_T-v-ALL_LH.curv'\n",
    "        # t_map = f'{tmap_dir}{sub}/{sub}_F-v-ALL_LH.curv'\n",
    "        \n",
    "        # start the command\n",
    "        cmd = f'freeview -f {fs_mesh}:curvature_method=binary:overlay={t_map}:overlay_threshold=3,9:overlay_opacity=0.4'\n",
    "        \n",
    "        # grab label path if it exists\n",
    "        for roi in ROIs:\n",
    "            lable_path = f'{roi_dir}{sub}/{sub}_{roi}_LH.label'\n",
    "            \n",
    "            # add label to freeview command\n",
    "            if os.path.exists(lable_path):\n",
    "                cmd_pt = f':label={lable_path}:label_color={roi_colors[roi]}:label_outline=true'\n",
    "                cmd+=cmd_pt\n",
    "        \n",
    "        # add finishing information to the command  \n",
    "        cmd+=f' {camera} -ss {fig_dir}{sub}_rois_FvALL.png {viewsize}\\n\\n\\n\\n\\n\\n'\n",
    "\n",
    "        # run freeview command\n",
    "        os.system(cmd)\n",
    "        # print(cmd)"
   ]
  },
  {
   "cell_type": "markdown",
   "id": "4c164329-7aa3-44c8-9d05-fa53a2af1e55",
   "metadata": {},
   "source": [
    "# Plot Group & Template ROIs"
   ]
  },
  {
   "cell_type": "code",
   "execution_count": 11,
   "id": "e05bbe35-6153-4c8e-ad81-6a1b5d6576d0",
   "metadata": {},
   "outputs": [],
   "source": [
    "# set directories\n",
    "base_dir = f'{os.path.dirname(os.getcwd())}/'\n",
    "label_dir = f'{base_dir}data/labels/group_labels/'\n",
    "fig_dir = f'{base_dir}figures/group_ROIs/'\n",
    "\n",
    "\n",
    "# define roi color palette\n",
    "group_roi_palette = {'cVWFA': '#c1ff71',\n",
    "                    'aVWFA': '#7ed957',\n",
    "                    'rVWFA': '#00bf63',\n",
    "                    'kVWFA': '#009456',\n",
    "                    'cFFA': '#ffb2e6',\n",
    "                    'aFFA': '#fe69ce',\n",
    "                    'rFFA': '#e4009a',\n",
    "                    'kFFA': '#a80072'}\n",
    "\n",
    "# specify camera aesthetics\n",
    "viewsize = ' -viewsize 600 665'\n",
    "camera = '--camera Azimuth 0 Elevation -77 Roll 270'"
   ]
  },
  {
   "cell_type": "code",
   "execution_count": 14,
   "id": "6607b6d0-bcd6-4a68-91a1-a47e1c102925",
   "metadata": {},
   "outputs": [],
   "source": [
    "# define surface mesh dir\n",
    "fs_mesh = f'{base_dir}data/surface_meshes/fsaverage/lh.inflated'\n",
    "\n",
    "for roi in group_roi_palette.keys():\n",
    "    # start the command\n",
    "    cmd = f'freeview -f {fs_mesh}:curvature_method=binary'\n",
    "        \n",
    "    # loop throuhg to itteratively add in case of multiple label parts\n",
    "    files = glob.glob(f'{label_dir}{roi}*_LH.label')\n",
    "    if len(files) > 0:\n",
    "        for roi_part in files:\n",
    "            cmd += f':label={roi_part}:label_color={group_roi_palette[roi]}'\n",
    "    \n",
    "    # add camera info\n",
    "    cmd += f' {camera} -ss {fig_dir}{roi}.png {viewsize}'\n",
    "        \n",
    "    # run freeview command\n",
    "    os.system(cmd)"
   ]
  },
  {
   "cell_type": "code",
   "execution_count": null,
   "id": "03458b48-69fe-4e42-aab3-91b7f9df3945",
   "metadata": {},
   "outputs": [],
   "source": []
  }
 ],
 "metadata": {
  "kernelspec": {
   "display_name": "Python 3 (ipykernel)",
   "language": "python",
   "name": "python3"
  },
  "language_info": {
   "codemirror_mode": {
    "name": "ipython",
    "version": 3
   },
   "file_extension": ".py",
   "mimetype": "text/x-python",
   "name": "python",
   "nbconvert_exporter": "python",
   "pygments_lexer": "ipython3",
   "version": "3.11.8"
  }
 },
 "nbformat": 4,
 "nbformat_minor": 5
}
