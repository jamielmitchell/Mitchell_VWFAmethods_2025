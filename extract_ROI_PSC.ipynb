{
 "cells": [
  {
   "cell_type": "markdown",
   "id": "54fbf713-bc2b-4a5d-aeb9-7a9ae5461366",
   "metadata": {},
   "source": [
    "# Set up"
   ]
  },
  {
   "cell_type": "code",
   "execution_count": 1,
   "id": "0db7928d-aad5-4011-b3aa-1742b20e050d",
   "metadata": {},
   "outputs": [],
   "source": [
    "#import packages\n",
    "\n",
    "import pandas as pd\n",
    "from nilearn import surface\n",
    "import numpy as np\n",
    "import os\n",
    "import glob\n",
    "import usefulFunctions as uf"
   ]
  },
  {
   "cell_type": "code",
   "execution_count": 4,
   "id": "e75e1c18-afaf-46cf-9027-38e95384f475",
   "metadata": {},
   "outputs": [],
   "source": [
    "# flag to save csv\n",
    "save_csv = True\n",
    "\n",
    "#set paths\n",
    "base_dir = f'{os.path.dirname(os.getcwd())}/'\n",
    "roi_dir = f'{base_dir}data/labels/'\n",
    "psc_dir = f'{base_dir}data/psc_maps/'\n",
    "csv_dir = f'{base_dir}analysis/CSVs/'\n",
    "\n",
    "#define variable list\n",
    "subs = uf.subject_list(f'{psc_dir}native/allData/')\n",
    "ROIs = ['VWFA','FFA']\n",
    "spaces = ['native','average']\n",
    "data_types = ['allData','sepTask']\n",
    "categories = ['T','FF','F','O','L','noText'] \n",
    "map_tasks = ['oneback','fixation']\n",
    "roi_tasks = ['oneback','fixation']"
   ]
  },
  {
   "cell_type": "markdown",
   "id": "1657c81c-a852-4d7a-b764-123819b83579",
   "metadata": {},
   "source": [
    "# allData ROIs\n"
   ]
  },
  {
   "cell_type": "code",
   "execution_count": 5,
   "id": "efb8c41c-8db1-493b-908c-5892293e4a60",
   "metadata": {},
   "outputs": [],
   "source": [
    "# Collect all data\n",
    "data_records = []\n",
    "\n",
    "# loop through subs, rois, spaces, and categories to extract mean psc\n",
    "for sub in subs:\n",
    "    for roi in ROIs:\n",
    "        for space in spaces:\n",
    "            # check in an roi exists\n",
    "            ROI_paths = glob.glob(f'{roi_dir}{space}/allData/{sub}/{sub}_*-v-ALL_{roi}*_LH.label')\n",
    "            if len(ROI_paths)>0:\n",
    "                # load roi lable\n",
    "                roi_indices = uf.read_in_rois(ROI_paths)\n",
    "                \n",
    "                for category in categories:\n",
    "\n",
    "                    #load psc map\n",
    "                    psc_map = surface.load_surf_data(f'{psc_dir}{space}/allData/{sub}/{sub}_{category}_LH.curv')\n",
    "\n",
    "                    # calculate mean psc for each existing roi\n",
    "                    if psc_map is not None:\n",
    "                        mean_psc = np.mean(psc_map[roi_indices])\n",
    "                    else: # assign nan if roi doesn't exist\n",
    "                        mean_psc = np.nan\n",
    "                        \n",
    "                    # Store the results\n",
    "                    data_records.append({\n",
    "                        'sub': sub,\n",
    "                        'roi': roi,\n",
    "                        'space': space,\n",
    "                        'category': category,\n",
    "                        'mean_psc': mean_psc\n",
    "                    })\n",
    "        \n",
    "# Create DataFrame\n",
    "df = pd.DataFrame(data_records)\n",
    "\n",
    "# save df as csv\n",
    "df_path = f'{csv_dir}allDataROIs_allDataMaps_meanPSC.csv'\n",
    "if save_csv:\n",
    "    df.to_csv(df_path, index=False)"
   ]
  },
  {
   "cell_type": "markdown",
   "id": "c1313ee9-1e76-4c67-96a6-71646c5dbbe5",
   "metadata": {},
   "source": [
    "# sepTask ROIs"
   ]
  },
  {
   "cell_type": "code",
   "execution_count": 7,
   "id": "e26a90f5-39d6-4f36-8aa9-47fe192c3c20",
   "metadata": {},
   "outputs": [],
   "source": [
    "# Collect all data\n",
    "data_records = []\n",
    "\n",
    "# loop through subs, rois, spaces, task, and categories to extract mean psc\n",
    "for sub in subs:\n",
    "    for roi in ROIs:\n",
    "        for space in spaces:\n",
    "            for roi_task in roi_tasks:\n",
    "                # check in an roi exists\n",
    "                ROI_paths = glob.glob(f'{roi_dir}{space}/sepTask/{sub}/{sub}_task-{roi_task}_*-v-ALL_{roi}*_LH.label')\n",
    "                if len(ROI_paths)>0:\n",
    "                    # load roi lable\n",
    "                    roi_indices = uf.read_in_rois(ROI_paths)\n",
    "                    \n",
    "                    for category in categories:\n",
    "                        for map_task in map_tasks:\n",
    "    \n",
    "                            #load psc map\n",
    "                            psc_map = surface.load_surf_data(f'{psc_dir}{space}/sepTask/{sub}/{sub}_task-{map_task}_{category}_LH.curv')\n",
    "        \n",
    "                            # calculate mean psc for each existing roi\n",
    "                            if psc_map is not None:\n",
    "                                mean_psc = np.mean(psc_map[roi_indices])\n",
    "                            else: # assign nan if roi doesn't exist\n",
    "                                mean_psc = np.nan\n",
    "                                \n",
    "                            # Store the results\n",
    "                            data_records.append({\n",
    "                                'sub': sub,\n",
    "                                'roi': roi,\n",
    "                                'space': space,\n",
    "                                'roi_task': roi_task,\n",
    "                                'category': category,\n",
    "                                'map_task': map_task,\n",
    "                                'mean_psc': mean_psc\n",
    "                            })\n",
    "            \n",
    "\n",
    "# Create DataFrame\n",
    "df = pd.DataFrame(data_records)\n",
    "\n",
    "# save df as csv \n",
    "df_path = f'{csv_dir}sepTaskROIs_sepTaskMaps_meanPSC.csv'\n",
    "if save_csv:\n",
    "    df.to_csv(df_path, index=False)\n"
   ]
  },
  {
   "cell_type": "markdown",
   "id": "5d4fd531-efd7-4271-811c-fd850e6591e9",
   "metadata": {},
   "source": [
    "# Group/Template ROIs"
   ]
  },
  {
   "cell_type": "code",
   "execution_count": 8,
   "id": "5c12c93f-f9f4-4102-8265-9e373d2267f6",
   "metadata": {},
   "outputs": [],
   "source": [
    "# set directory\n",
    "roi_dir = f'{base_dir}data/labels/group_labels/'\n",
    "psc_dir = f'{base_dir}data/psc_maps/average/allData/'\n",
    "\n",
    "# define variables\n",
    "categories = ['T','FF','F','O','L','noText'] \n",
    "ROIs = ['aVWFA','cVWFA','kVWFA','rVWFA','aFFA','cFFA','kFFA','rFFA']"
   ]
  },
  {
   "cell_type": "code",
   "execution_count": 9,
   "id": "9736e415-8d79-45a2-a457-6ba2b87f5ca9",
   "metadata": {},
   "outputs": [],
   "source": [
    "# Collect all data\n",
    "data_records = []\n",
    "\n",
    "# loop through subs, rois, and categories to extract mean psc\n",
    "\n",
    "for roi in ROIs:\n",
    "    # load the ROI\n",
    "    roi_indices = uf.read_in_rois(glob.glob(f'{roi_dir}{roi}*_LH.label'))\n",
    "    for sub in subs:\n",
    "        for category in categories:\n",
    "\n",
    "            #load psc map\n",
    "            psc_map = surface.load_surf_data(f'{psc_dir}{sub}/{sub}_{category}_LH.curv')\n",
    "\n",
    "            # calculate mean psc for each existing roi\n",
    "            if psc_map is not None:\n",
    "                mean_psc = np.mean(psc_map[roi_indices])\n",
    "            else: # assign nan if roi doesn't exist\n",
    "                mean_psc = np.nan\n",
    "                \n",
    "            # Store the results\n",
    "            data_records.append({\n",
    "                'sub': sub,\n",
    "                'roi': roi,\n",
    "                'category': category,\n",
    "                'mean_psc': mean_psc\n",
    "            })\n",
    "        \n",
    "\n",
    "# Create DataFrame\n",
    "df = pd.DataFrame(data_records)\n",
    "\n",
    "# save df as csv \n",
    "df_path = f'{csv_dir}groupROIs_allDataMaps_meanPSC.csv'\n",
    "if save_csv:\n",
    "    df.to_csv(df_path, index=False)\n"
   ]
  }
 ],
 "metadata": {
  "kernelspec": {
   "display_name": "Python 3 (ipykernel)",
   "language": "python",
   "name": "python3"
  },
  "language_info": {
   "codemirror_mode": {
    "name": "ipython",
    "version": 3
   },
   "file_extension": ".py",
   "mimetype": "text/x-python",
   "name": "python",
   "nbconvert_exporter": "python",
   "pygments_lexer": "ipython3",
   "version": "3.11.8"
  }
 },
 "nbformat": 4,
 "nbformat_minor": 5
}
