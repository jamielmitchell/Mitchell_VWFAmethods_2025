{
 "cells": [
  {
   "cell_type": "markdown",
   "id": "e39dbdfb-0051-4f67-a73a-0f192a436543",
   "metadata": {},
   "source": [
    "# Set up"
   ]
  },
  {
   "cell_type": "code",
   "execution_count": 1,
   "id": "96ac0060-5ade-4e2e-9fc4-e71bf5e13393",
   "metadata": {},
   "outputs": [],
   "source": [
    "#import packages\n",
    "\n",
    "import pandas as pd\n",
    "from nilearn import surface\n",
    "import numpy as np\n",
    "import os\n",
    "from scipy.stats import ttest_1samp\n",
    "from nilearn import plotting\n",
    "import matplotlib.pyplot as plt\n",
    "from nilearn.datasets import fetch_surf_fsaverage\n",
    "import nibabel as nib\n",
    "import usefulFunctions as uf"
   ]
  },
  {
   "cell_type": "code",
   "execution_count": 4,
   "id": "41a4e972-7a43-4684-8400-a3b45dce61ed",
   "metadata": {},
   "outputs": [],
   "source": [
    "# flag to save curv files\n",
    "save_maps = False\n",
    "\n",
    "#set paths\n",
    "base_dir = f'{os.path.dirname(os.getcwd())}/'\n",
    "c_map_dir = f'{base_dir}data/c_maps/average/allData/'\n",
    "out_dir = f'{base_dir}analysis/group_maps/'\n",
    "fig_dir = f'{base_dir}figures/'\n",
    "\n",
    "#define sub list\n",
    "subs = uf.subject_list(c_map_dir) # grab all sub IDs\n",
    "#separate sub list into adults and children\n",
    "id_cutoff = 1000 # split between child and adult ID #s\n",
    "child_subs = [sub for sub in subs if int(sub.split('-')[1]) < id_cutoff]\n",
    "adult_subs = [sub for sub in subs if int(sub.split('-')[1]) >= id_cutoff]\n",
    "sub_groups = [child_subs,adult_subs]\n",
    "#specify contrasts\n",
    "contrasts = ['T-v-ALL','F-v-ALL','FF-v-ALL','O-v-ALL','L-v-ALL'] # list of contrasts\n",
    "#specify group\n",
    "group_names = ['children','adults']\n",
    "\n"
   ]
  },
  {
   "cell_type": "markdown",
   "id": "d24c3d59-0620-4b51-a2c7-60d4794ac6b3",
   "metadata": {},
   "source": [
    "# Calculate group average maps"
   ]
  },
  {
   "cell_type": "code",
   "execution_count": 5,
   "id": "311825e3-027a-4af6-ba75-8b44a752e3d3",
   "metadata": {},
   "outputs": [],
   "source": [
    "# collect data\n",
    "all_t_maps = []\n",
    "all_p_maps = []\n",
    "\n",
    "# loop through group and contrast to calculate second level model\n",
    "for group_indx, group in enumerate(sub_groups):\n",
    "    group_t_maps = []\n",
    "    group_p_maps = []\n",
    "    for contrast in contrasts:\n",
    "        c_maps = []\n",
    "        for sub in group:\n",
    "\n",
    "            # load individual contrast maps\n",
    "            c_map = surface.load_surf_data(f'{c_map_dir}{sub}/{sub}_{contrast}_LH.curv')\n",
    "            c_maps.append(c_map)\n",
    "\n",
    "        # run a 1 sample t test on all contrast maps\n",
    "        t_map, p_map = ttest_1samp(np.array(c_maps), 0)\n",
    "        group_t_maps.append(t_map)\n",
    "        # group_p_maps.append(p_map)\n",
    "\n",
    "        # save the resulting group average map\n",
    "        if save_maps:\n",
    "            nib.freesurfer.io.write_morph_data(f'{out_dir}{group_names[group_indx]}_{contrast}_t-map.curv', t_map)\n",
    "            # nib.freesurfer.io.write_morph_data(f'{out_dir}{group_names[group_indx]}_{contrast}_p-map.curv', p_map)\n",
    "    \n",
    "    # store group maps for plotting\n",
    "    all_t_maps.append(group_t_maps)\n",
    "    # all_p_maps.append(group_p_maps)\n",
    "        "
   ]
  },
  {
   "cell_type": "markdown",
   "id": "59f3f087-f738-4f91-b1b0-913cf69b749a",
   "metadata": {},
   "source": [
    "# Plot group average maps"
   ]
  },
  {
   "cell_type": "code",
   "execution_count": 4,
   "id": "8fcb47cc-813a-4892-be76-c41bfe58d8f6",
   "metadata": {},
   "outputs": [],
   "source": [
    "# define paths\n",
    "map_dir = out_dir\n",
    "surf = f'{base_dir}data/surface_meshes/fsaverage/lh.inflated'\n",
    "ss_dir = f'{fig_dir}group_activations/'\n",
    "\n",
    "# define variables\n",
    "groups=['adults','children']\n",
    "contrasts = ['T-v-ALL','F-v-ALL','FF-v-ALL','O-v-ALL','L-v-ALL']\n",
    "viewsize = '600 665'\n",
    "view = 'inferior'\n",
    "vmax = 9\n",
    "vmin = 3"
   ]
  },
  {
   "cell_type": "code",
   "execution_count": 5,
   "id": "5464c1a2-950f-4bc4-b216-dd970d5c1820",
   "metadata": {},
   "outputs": [],
   "source": [
    "# visualizations with freeview\n",
    "\n",
    "# loop through groups and contrasts to grab freeview screenshots of group maps\n",
    "for group in groups:\n",
    "    for contrast in contrasts:\n",
    "        cmd = f'\\nfreeview -f {surf}:overlay={map_dir}{group}_{contrast}_t-map.curv:overlay_threshold={vmin},{vmax}:overlay_opacity=0.5: -view {view} -ras -40 -20 -20 -cc -ss \"{ss_dir}{group}_{contrast}_t-map.png\" -viewsize {viewsize}\\n'\n",
    "        os.system(cmd)\n",
    "        print(cmd)"
   ]
  },
  {
   "cell_type": "code",
   "execution_count": null,
   "id": "2d8884e7-bb91-4943-a9f3-0caf1e9176f0",
   "metadata": {},
   "outputs": [],
   "source": [
    "# visualizations with nilearn\n",
    "\n",
    "# define surface template\n",
    "fsaverage = fetch_surf_fsaverage(mesh='fsaverage')\n",
    "\n",
    "# loop through groups and contrasts to plot group maps\n",
    "for group_indx in range(len(sub_groups)):\n",
    "    group_data = all_t_maps[group_indx]\n",
    "    for contrast_indx, contrast in enumerate(contrasts):\n",
    "        contrast_data = group_data[contrast_indx]\n",
    "        \n",
    "        # create figure with multiple axes for multiple views\n",
    "        fig = plt.figure(figsize=(8,6))\n",
    "        ax1 = fig.add_subplot(1, 2, 1, projection='3d')\n",
    "        ax2 = fig.add_subplot(1, 2, 2, projection='3d')\n",
    "\n",
    "        # plot the lateral view\n",
    "        plotting.plot_surf_stat_map(fsaverage.infl_left, contrast_data, hemi='left',\n",
    "                                    threshold = vmin, vmax = vmax,\n",
    "                                    colorbar=False,\n",
    "                                    bg_map=fsaverage.sulc_left,\n",
    "                                    axes = ax1)\n",
    "        #plot the ventral view\n",
    "        plotting.plot_surf_stat_map(fsaverage.infl_left, contrast_data, hemi='left', view = 'ventral',\n",
    "                                    threshold = vmin, vmax = vmax,\n",
    "                                    colorbar=False,\n",
    "                                    bg_map=fsaverage.sulc_left,\n",
    "                                    axes = ax2)\n",
    "        \n",
    "        # set angles of the surfaces\n",
    "        ax1.view_init(0, 180)\n",
    "        ax2.view_init(270, 270)\n",
    "\n",
    "        # add title\n",
    "        fig.suptitle(f'{group_names[group_indx]} {contrast}',y = 1.0, fontsize = 'xx-large')\n",
    "        \n",
    "        # set dimensions of the plots\n",
    "        fig.tight_layout(h_pad=-5,w_pad=0)\n",
    "\n",
    "        # save figures\n",
    "        fig.savefig(f'{fig_dir}{group_names[group_indx]}_{contrast}_{vmin}_tmaps.png')\n",
    "        print('saved fig')"
   ]
  },
  {
   "cell_type": "code",
   "execution_count": null,
   "id": "ec87fd50-a9aa-45cf-962f-e162597cee82",
   "metadata": {},
   "outputs": [],
   "source": []
  }
 ],
 "metadata": {
  "kernelspec": {
   "display_name": "Python 3 (ipykernel)",
   "language": "python",
   "name": "python3"
  },
  "language_info": {
   "codemirror_mode": {
    "name": "ipython",
    "version": 3
   },
   "file_extension": ".py",
   "mimetype": "text/x-python",
   "name": "python",
   "nbconvert_exporter": "python",
   "pygments_lexer": "ipython3",
   "version": "3.11.8"
  }
 },
 "nbformat": 4,
 "nbformat_minor": 5
}
