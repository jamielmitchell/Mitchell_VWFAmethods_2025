{
 "cells": [
  {
   "cell_type": "markdown",
   "id": "b39b0bec-7f14-416f-8b33-f31f13dba0f7",
   "metadata": {},
   "source": [
    "# Set Up"
   ]
  },
  {
   "cell_type": "code",
   "execution_count": 1,
   "id": "cacdfd5b-8d1c-4f34-b37d-605724e724ee",
   "metadata": {},
   "outputs": [],
   "source": [
    "# import necessary packages\n",
    "import pandas as pd\n",
    "import numpy as np\n",
    "import os"
   ]
  },
  {
   "cell_type": "code",
   "execution_count": 3,
   "id": "7cacf84c-b899-4bdc-9b94-18a61c9babfc",
   "metadata": {},
   "outputs": [],
   "source": [
    "# flag to save CSVs\n",
    "save_csv = True\n",
    "\n",
    "# set directories\n",
    "base_dir = f'{os.path.dirname(os.getcwd())}/'\n",
    "csv_dir = f'{base_dir}analysis/CSVs/'"
   ]
  },
  {
   "cell_type": "markdown",
   "id": "0a7b63ff-af5b-48e1-a589-972fbf1fb391",
   "metadata": {},
   "source": [
    "# Combine group and individual roi PSC"
   ]
  },
  {
   "cell_type": "code",
   "execution_count": 6,
   "id": "4a04465c-79e0-4618-bc80-bd7d500ae376",
   "metadata": {},
   "outputs": [],
   "source": [
    "# load csvs\n",
    "group_psc = pd.read_csv(f'{csv_dir}groupROIs_allDataMaps_meanPSC.csv')\n",
    "native_psc = pd.read_csv(f'{csv_dir}allDataROIs_allDataMaps_meanPSC.csv')\n",
    "\n",
    "# filter data\n",
    "native_psc=native_psc.query('space==\"native\"')\n",
    "native_psc = native_psc[['sub','roi','category','mean_psc']]\n",
    "\n",
    "# combine data\n",
    "combined_data = pd.concat([group_psc,native_psc])\n",
    "\n",
    "# filter data\n",
    "combined_data = combined_data.query('roi==\"VWFA\" or roi==\"cVWFA\" or roi==\"aVWFA\"or roi==\"rVWFA\" or roi==\"kVWFA\"')\n",
    "\n",
    "# save csv\n",
    "if save_csv:\n",
    "    combined_data.to_csv(f'{csv_dir}native-group-VWFAs_PSC.csv',index=False)"
   ]
  },
  {
   "cell_type": "markdown",
   "id": "ce748a15-d1ff-477e-818c-ec1437bef108",
   "metadata": {},
   "source": [
    "# Calculate selectivity index"
   ]
  },
  {
   "cell_type": "code",
   "execution_count": 8,
   "id": "c687d3f3-2caa-4e49-b7be-68d9766a7d8b",
   "metadata": {},
   "outputs": [],
   "source": [
    "# load the psc data\n",
    "psc_df = pd.read_csv(f'{csv_dir}native-group-VWFAs_PSC.csv')\n",
    "\n",
    "#filter fo only categories of interest\n",
    "psc_data = psc_df.query('category==\"T\" or category==\"noText\"')\n",
    "\n",
    "# pivot wider for convience of SI calculation\n",
    "pivoted_df = psc_data.pivot(columns=['category'],values=['mean_psc'],index=['sub','roi'])\n",
    "pivoted_df=pivoted_df.reset_index()\n",
    "\n",
    "# reanme columns\n",
    "pivoted_df.columns = ['_'.join(filter(None, col)).strip() for col in pivoted_df.columns]\n",
    "pivoted_df = pivoted_df.rename_axis(None, axis=1)\n",
    "\n",
    "# calcualte SI\n",
    "pivoted_df['SI'] = ((1 + pivoted_df['mean_psc_T']) - (1 + pivoted_df['mean_psc_noText'])) / ((1 + pivoted_df['mean_psc_T']) + (1 + pivoted_df['mean_psc_noText']))\n",
    "\n",
    "#save df\n",
    "if save_csv:\n",
    "    pivoted_df.to_csv(f'{csv_dir}groupVWFAs_SI.csv',index=False)"
   ]
  },
  {
   "cell_type": "code",
   "execution_count": null,
   "id": "d9f1ca7c-1a90-4f64-bde9-1028cf9ee4d9",
   "metadata": {},
   "outputs": [],
   "source": []
  }
 ],
 "metadata": {
  "kernelspec": {
   "display_name": "Python 3 (ipykernel)",
   "language": "python",
   "name": "python3"
  },
  "language_info": {
   "codemirror_mode": {
    "name": "ipython",
    "version": 3
   },
   "file_extension": ".py",
   "mimetype": "text/x-python",
   "name": "python",
   "nbconvert_exporter": "python",
   "pygments_lexer": "ipython3",
   "version": "3.11.8"
  }
 },
 "nbformat": 4,
 "nbformat_minor": 5
}
