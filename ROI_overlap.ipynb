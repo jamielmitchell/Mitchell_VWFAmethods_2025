{
 "cells": [
  {
   "cell_type": "markdown",
   "id": "96303715-37a1-41dc-a83b-a8f36184db6e",
   "metadata": {},
   "source": [
    "# Set up"
   ]
  },
  {
   "cell_type": "code",
   "execution_count": 1,
   "id": "9b3b064c-af7a-4869-a65d-1e581e77d1e2",
   "metadata": {},
   "outputs": [],
   "source": [
    "#import necessary packages\n",
    "\n",
    "import os\n",
    "import glob\n",
    "from nilearn import surface\n",
    "import numpy as np\n",
    "import nibabel as nib\n",
    "import usefulFunctions as uf"
   ]
  },
  {
   "cell_type": "code",
   "execution_count": 2,
   "id": "9e91b27b-ec80-41aa-a77e-6d5d1d4b14f0",
   "metadata": {},
   "outputs": [],
   "source": [
    "# flag to save files\n",
    "save_files = False\n",
    "\n",
    "#set paths\n",
    "base_dir = f'{os.path.dirname(os.getcwd())}/'\n",
    "roi_dir = f'{base_dir}data/labels/average/allData/'\n",
    "fs_mesh = f'{base_dir}data/surface_meshes/fsaverage/lh.inflated'\n",
    "out_dir = f'{base_dir}analysis/overlap_maps/'\n",
    "fig_dir = f'{base_dir}figures/overlap_ss/'\n",
    "\n",
    "# define subject lists\n",
    "subs = uf.subject_list(roi_dir)\n",
    "id_cutoff = 1000 # split between child and adult ID #s\n",
    "child_subs = [sub for sub in subs if int(sub.split('-')[1]) < id_cutoff]\n",
    "adult_subs = [sub for sub in subs if int(sub.split('-')[1]) >= id_cutoff]\n",
    "sub_groups = [child_subs,adult_subs]\n",
    "\n",
    "# set variables\n",
    "sub_group_names = ['child','adult']\n",
    "ROIs = ['VWFA', 'FFA']"
   ]
  },
  {
   "cell_type": "markdown",
   "id": "7ad7e466-491c-4260-9410-e117a19467ef",
   "metadata": {},
   "source": [
    "# Create heat and probability maps of overlapping ROIs"
   ]
  },
  {
   "cell_type": "code",
   "execution_count": 4,
   "id": "9ac846ba-d33f-42d4-a5b8-87e1e5e00527",
   "metadata": {},
   "outputs": [
    {
     "name": "stdout",
     "output_type": "stream",
     "text": [
      "0.2571428571428571\n",
      "child VWFA 70\n",
      "0.6707317073170732\n",
      "child FFA 82\n",
      "0.46153846153846156\n",
      "adult VWFA 13\n",
      "0.7857142857142857\n",
      "adult FFA 14\n"
     ]
    }
   ],
   "source": [
    "# load the surface mesh\n",
    "fsavg_surf = surface.load_surf_mesh(fs_mesh)\n",
    "\n",
    "#loop through group and lables to grab all ROIs\n",
    "for group_indx, group in enumerate(sub_groups):\n",
    "    for roi in ROIs:\n",
    "\n",
    "        # create mesh with 0 for every index\n",
    "        roi_overlap = np.zeros(len(fsavg_surf[0]))\n",
    "\n",
    "        # keep track of the number of participants with an roi\n",
    "        roi_count = 0\n",
    "        \n",
    "        for sub in group:\n",
    "\n",
    "            # append labels to list if they exists\n",
    "            label_paths = glob.glob(f'{roi_dir}{sub}/{sub}_*-v-ALL_{roi}*_LH.label')\n",
    "            for label_path in label_paths:\n",
    "                if os.path.exists(label_path):\n",
    "                    label = surface.load_surf_data(label_path)\n",
    "\n",
    "                    # increment roi_overlap for each index in each label\n",
    "                    for idx in label:\n",
    "                        roi_overlap[idx] += 1\n",
    "            \n",
    "            # increment roi_count for each subject with an roi\n",
    "            if len(label_paths) > 0:\n",
    "                roi_count += 1\n",
    "\n",
    "        # calcualte roi probability map\n",
    "        prob_map = roi_overlap/roi_count\n",
    "        \n",
    "        # print for assigning visualization later\n",
    "        print(np.max(prob_map))\n",
    "        print(f'{sub_group_names[group_indx]} {roi} {roi_count}')\n",
    "    \n",
    "        # # save maps\n",
    "        if save_files:\n",
    "            nib.freesurfer.io.write_morph_data(f'{out_dir}{sub_group_names[group_indx]}_{roi}_overlap.curv', roi_overlap)\n",
    "            nib.freesurfer.io.write_morph_data(f'{out_dir}{sub_group_names[group_indx]}_{roi}_probability.curv', prob_map)"
   ]
  },
  {
   "cell_type": "markdown",
   "id": "4653bb78-2b17-42e7-ae8a-fdf9f5764764",
   "metadata": {},
   "source": [
    "## Get freeview screenshot"
   ]
  },
  {
   "cell_type": "code",
   "execution_count": null,
   "id": "18506366-9ee9-4018-b3e2-2de83db0bb66",
   "metadata": {},
   "outputs": [],
   "source": [
    "# specify camera aesthetics\n",
    "viewsize = ' -viewsize 600 665'\n",
    "camera = '--camera Azimuth 0 Elevation -70 Roll 270'\n",
    "\n",
    "# set color wheel thresholds\n",
    "min_thresh = 0.0001\n",
    "max_thresh = 0.8 # based on max value from all probability maps\n",
    "\n",
    "# set fig directory\n",
    "fig_dir = '/Users/jamiel12/scratch/jamie/fROI_methods/figures/overlap_ss/'\n",
    "\n",
    "# loop through group \n",
    "for group in sub_group_names:\n",
    "    for roi in ROIs:\n",
    "        # grab the map path\n",
    "        map = f'{out_dir}{group}_{roi}_probability.curv'\n",
    "    \n",
    "        # build the command\n",
    "        cmd = f'freeview -f {fs_mesh}:curvature_method=binary:overlay={map}:overlay_color=colorwheel:overlay_threshold={min_thresh},{max_thresh} {camera} -ss {fig_dir}{group}_{roi}_probability.png {viewsize}'\n",
    "    \n",
    "        # run command\n",
    "        print(cmd)\n",
    "        # os.system(cmd)    "
   ]
  },
  {
   "cell_type": "markdown",
   "id": "47a6e908-1fc6-4cc8-99f2-3a4d0041ef57",
   "metadata": {},
   "source": [
    "# Create indicator map to define overlap between VWFA & FFA labels"
   ]
  },
  {
   "cell_type": "code",
   "execution_count": 5,
   "id": "a24ffee0-d86a-42b4-9724-ada61f1e7dab",
   "metadata": {},
   "outputs": [],
   "source": [
    "# load the surface mesh\n",
    "fsavg_surf = surface.load_surf_mesh(fs_mesh)\n",
    "\n",
    "#loop through group to grab overlap maps\n",
    "for group_indx, group in enumerate(sub_groups):\n",
    "\n",
    "    # load VWFA & FFA overlap maps\n",
    "    VWFA_overlap = surface.load_surf_data(f'{out_dir}{sub_group_names[group_indx]}_VWFA_overlap.curv')\n",
    "    FFA_overlap = surface.load_surf_data(f'{out_dir}{sub_group_names[group_indx]}_FFA_overlap.curv')\n",
    "\n",
    "    # assign an vertex with a VWFA as a 1\n",
    "    VWFA_indices = []\n",
    "    for index in VWFA_overlap:\n",
    "        if index == 0:\n",
    "            VWFA_indices.append(0.0)\n",
    "        elif index >0:\n",
    "            VWFA_indices.append(1.0)\n",
    "\n",
    "    # assign an vertex with a FFA as a 2\n",
    "    FFA_indices = []\n",
    "    for index in FFA_overlap:\n",
    "        if index == 0:\n",
    "            FFA_indices.append(0.0)\n",
    "        elif index >0:\n",
    "            FFA_indices.append(2.0)\n",
    "\n",
    "    # add maps so anywhere VWFA & FFA overlap == 3\n",
    "    VWFA_FFA_overlap = np.array(VWFA_indices) + np.array(FFA_indices)\n",
    "\n",
    "    # save map\n",
    "    if save_files:\n",
    "        nib.freesurfer.io.write_morph_data(f'{out_dir}{sub_group_names[group_indx]}_VWFA-FFA_overlap.curv', VWFA_FFA_overlap)"
   ]
  },
  {
   "cell_type": "markdown",
   "id": "d6424d79-b7e5-4447-96ad-e727b89b6295",
   "metadata": {},
   "source": [
    "## Get freeview screenshot"
   ]
  },
  {
   "cell_type": "code",
   "execution_count": null,
   "id": "4b22647f-9abf-4d59-b7f5-b8241090a6ab",
   "metadata": {},
   "outputs": [],
   "source": [
    "# specify camera aesthetics\n",
    "viewsize = ' -viewsize 600 665'\n",
    "camera = '--camera Azimuth 0 Elevation -70 Roll 270'\n",
    "\n",
    "custom_colors = '1,16,255,22,2,249,12,233,3,255,255,0' # 'val,r,g,b,val2,r2,g2,b2..''\n",
    "\n",
    "# set fig directory\n",
    "fig_dir = '/Users/jamiel12/scratch/jamie/fROI_methods/figures/overlap_ss/'\n",
    "\n",
    "# loop through group \n",
    "for group in sub_group_names:\n",
    "    for roi in ROIs:\n",
    "        # grab the map path\n",
    "        map = f'{out_dir}{group}_VWFA-FFA_overlap.curv'\n",
    "    \n",
    "        # build the command\n",
    "        cmd = f'freeview -f {fs_mesh}:curvature_method=binary:overlay={map}:overlay_custom={custom_colors} {camera} -ss {fig_dir}{group}_VWFA-FFA_overlap.png {viewsize}'\n",
    "    \n",
    "        # run command\n",
    "        print(cmd)\n",
    "        # os.system(cmd)    "
   ]
  },
  {
   "cell_type": "markdown",
   "id": "fe5d4189-90fc-46ba-997a-cd0634a4c6b3",
   "metadata": {},
   "source": [
    "# Calculate overlap vertices"
   ]
  },
  {
   "cell_type": "code",
   "execution_count": 6,
   "id": "fa0fdaf1-653b-47ab-b975-961d9a70dbfb",
   "metadata": {},
   "outputs": [
    {
     "name": "stdout",
     "output_type": "stream",
     "text": [
      "adult\n",
      "VWFA 649 0.003961133286947181%\n",
      "FFA 1369 0.008355610893421711%\n",
      "Both 2026 0.01236557170932972%\n",
      "None 159798 0.9753176841103014%\n",
      "child\n",
      "VWFA 962 0.005871510357539581%\n",
      "FFA 2450 0.01495343074425361%\n",
      "Both 3093 0.01887794338448017%\n",
      "None 157337 0.9602971155137267%\n"
     ]
    }
   ],
   "source": [
    "# define groups\n",
    "groups = ['adult','child']\n",
    "\n",
    "# 1 = VWFA, 2 = FFA, 3 = both\n",
    "\n",
    "# loop through groups to calculate vertex counts\n",
    "for group in groups:\n",
    "    print(group)\n",
    "    # load the overlap map\n",
    "    overlap_map = surface.load_surf_data(f'{out_dir}{group}_VWFA-FFA_overlap.curv')\n",
    "\n",
    "    # count the number of vertices for each value\n",
    "    print(f'VWFA {len(np.where(overlap_map == 1.0)[0])} {len(np.where(overlap_map == 1.0)[0])/len(overlap_map)}%')\n",
    "    print(f'FFA {len(np.where(overlap_map == 2.0)[0])} {len(np.where(overlap_map == 2.0)[0])/len(overlap_map)}%')\n",
    "    print(f'Both {len(np.where(overlap_map == 3.0)[0])} {len(np.where(overlap_map == 3.0)[0])/len(overlap_map)}%')\n",
    "    print(f'None {len(np.where(overlap_map == 0.0)[0])} {len(np.where(overlap_map == 0.0)[0])/len(overlap_map)}%')\n",
    "    \n"
   ]
  },
  {
   "cell_type": "code",
   "execution_count": null,
   "id": "eff77c19-faee-475b-9cb0-3bed8507b7d7",
   "metadata": {},
   "outputs": [],
   "source": []
  }
 ],
 "metadata": {
  "kernelspec": {
   "display_name": "Python 3 (ipykernel)",
   "language": "python",
   "name": "python3"
  },
  "language_info": {
   "codemirror_mode": {
    "name": "ipython",
    "version": 3
   },
   "file_extension": ".py",
   "mimetype": "text/x-python",
   "name": "python",
   "nbconvert_exporter": "python",
   "pygments_lexer": "ipython3",
   "version": "3.11.8"
  }
 },
 "nbformat": 4,
 "nbformat_minor": 5
}
